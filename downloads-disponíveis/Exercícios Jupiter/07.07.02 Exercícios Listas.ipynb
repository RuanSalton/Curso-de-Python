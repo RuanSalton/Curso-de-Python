{
 "cells": [
  {
   "cell_type": "markdown",
   "metadata": {},
   "source": [
    "# Exercícios\n",
    "\n",
    "## 1. Faturamento do Melhor e do Pior Mês do Ano\n",
    "\n",
    "Qual foi o valor de vendas do melhor mês do Ano?\n",
    "E valor do pior mês do ano?"
   ]
  },
  {
   "cell_type": "code",
   "execution_count": 55,
   "metadata": {},
   "outputs": [
    {
     "name": "stdout",
     "output_type": "stream",
     "text": [
      "O valor de vendas do melhor mês foi de 49051\n",
      "O valor de vendas do pior mês foi de 9650\n"
     ]
    }
   ],
   "source": [
    "meses = ['jan', 'fev', 'mar', 'abr', 'mai', 'jun', 'jul', 'ago', 'set', 'out', 'nov', 'dez']\n",
    "vendas_1sem = [25000, 29000, 22200, 17750, 15870, 19900]\n",
    "vendas_2sem = [19850, 20120, 17540, 15555, 49051, 9650]\n",
    "vendas_ano = vendas_1sem + vendas_2sem\n",
    "maior = max(vendas_ano)\n",
    "menor = min(vendas_ano)\n",
    "print(f'O valor de vendas do melhor mês foi de {maior}')\n",
    "print(f'O valor de vendas do pior mês foi de {menor}')"
   ]
  },
  {
   "cell_type": "markdown",
   "metadata": {},
   "source": [
    "## 2. Continuação\n",
    "\n",
    "Agora relacione as duas listas para printar 'O melhor mês do ano foi {} com {} vendas' e o mesmo para o pior mês do ano.\n",
    "\n",
    "Calcule também o faturamento total do Ano e quanto que o melhor mês representou do faturamento total.\n",
    "\n",
    "Obs: Para o faturamento total, pode usar a função sum(lista) que soma todos os itens de uma lista"
   ]
  },
  {
   "cell_type": "code",
   "execution_count": 56,
   "metadata": {},
   "outputs": [
    {
     "name": "stdout",
     "output_type": "stream",
     "text": [
      "O melhor mês do ano foi nov e o valor de vendas foi de 49051.\n",
      "O pior mês do ano foi dez e o valor de vendas foi de 9650.\n",
      "O faturamento total do ano foi de 261486.\n",
      "O melhor mês representou 18.76% do faturamento do ano.\n"
     ]
    }
   ],
   "source": [
    "i = vendas_ano.index(maior)\n",
    "m = vendas_ano.index(menor)\n",
    "tot_ano = sum(vendas_ano)\n",
    "mr = maior * 100 / tot_ano\n",
    "print(f'O melhor mês do ano foi {meses[i]} e o valor de vendas foi de {maior}.')\n",
    "print(f'O pior mês do ano foi {meses[m]} e o valor de vendas foi de {menor}.')\n",
    "print(f'O faturamento total do ano foi de {tot_ano}.')\n",
    "print(f'O melhor mês representou {mr:.2f}% do faturamento do ano.')"
   ]
  },
  {
   "cell_type": "markdown",
   "metadata": {},
   "source": [
    "## 3. Crie uma lista com o top 3 valores de vendas do ano (sem fazer \"no olho\")\n",
    "\n",
    "Dica: o método remove retira um item da lista."
   ]
  },
  {
   "cell_type": "code",
   "execution_count": 57,
   "metadata": {},
   "outputs": [
    {
     "name": "stdout",
     "output_type": "stream",
     "text": [
      "O top 3 de valores de vendas do ano foi [49051, 29000, 25000]\n"
     ]
    }
   ],
   "source": [
    "top3 = []\n",
    "top3.append(maior)\n",
    "vendas_ano.remove(maior)\n",
    "maior = max(vendas_ano)\n",
    "top3.append(maior)\n",
    "vendas_ano.remove(maior)\n",
    "maior = max(vendas_ano)\n",
    "top3.append(maior)\n",
    "vendas_ano.remove(maior)\n",
    "print(f'O top 3 de valores de vendas do ano foi {top3}')"
   ]
  }
 ],
 "metadata": {
  "kernelspec": {
   "display_name": "Python 3 (ipykernel)",
   "language": "python",
   "name": "python3"
  },
  "language_info": {
   "codemirror_mode": {
    "name": "ipython",
    "version": 3
   },
   "file_extension": ".py",
   "mimetype": "text/x-python",
   "name": "python",
   "nbconvert_exporter": "python",
   "pygments_lexer": "ipython3",
   "version": "3.9.7"
  }
 },
 "nbformat": 4,
 "nbformat_minor": 4
}
